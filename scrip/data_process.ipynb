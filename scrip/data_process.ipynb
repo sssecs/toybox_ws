{
 "cells": [
  {
   "cell_type": "code",
   "execution_count": 145,
   "metadata": {},
   "outputs": [],
   "source": [
    "import open3d as o3d\n",
    "import open3d.core as o3c\n",
    "import numpy as np\n",
    "import pickle\n",
    "import math\n",
    "import matplotlib.pyplot as plt\n",
    "import copy\n"
   ]
  },
  {
   "cell_type": "code",
   "execution_count": 141,
   "metadata": {},
   "outputs": [],
   "source": [
    "with open('data/odom.pickle', 'rb') as handle:\n",
    "    odom_data = pickle.load(handle)\n",
    "with open('data/p3d.pickle', 'rb') as handle:\n",
    "    p3d_data = pickle.load(handle)\n",
    "with open('data/pc2.pickle', 'rb') as handle:\n",
    "    pc2_data = pickle.load(handle)    \n",
    "\n",
    "pcd = []\n",
    "for pc2_pointcloud in pc2_data:\n",
    "    o3d_pointcloud = o3d.geometry.PointCloud()\n",
    "    o3d_pointcloud.points = o3d.utility.Vector3dVector(np.array(pc2_pointcloud))\n",
    "    pcd.append(o3d_pointcloud)"
   ]
  },
  {
   "cell_type": "code",
   "execution_count": 119,
   "metadata": {},
   "outputs": [],
   "source": [
    "combined_pc = pcd[0]\n",
    "\n",
    "for i in range(len(pcd)-150):\n",
    "    result_icp = o3d.pipelines.registration.registration_icp(\n",
    "        pcd[i], pcd[i+1], 0.1, np.identity(4),\n",
    "        o3d.pipelines.registration.TransformationEstimationPointToPoint())\n",
    "    transformation = result_icp.transformation\n",
    "    combined_pc = combined_pc.transform(transformation) + pcd[i+1]\n"
   ]
  },
  {
   "cell_type": "code",
   "execution_count": 120,
   "metadata": {},
   "outputs": [],
   "source": [
    "o3d.visualization.draw_geometries([combined_pc])"
   ]
  },
  {
   "cell_type": "code",
   "execution_count": 58,
   "metadata": {},
   "outputs": [],
   "source": [
    "def draw_registration_result_original_color(source, target, transformation):\n",
    "    source_temp = copy.deepcopy(source)\n",
    "    source_temp.transform(transformation)\n",
    "    \n",
    "    source_array = np.asarray(source_temp.points)\n",
    "    target_array = np.asarray(target.points)\n",
    "\n",
    "    fig, ax = plt.subplots()\n",
    "    ax.plot(source_array[:,0],source_array[:,1],'ro')\n",
    "    ax.plot(target_array[:,0],target_array[:,1],'bo')\n",
    "    ax.grid() \n",
    "    ax.set_aspect('equal')\n",
    "    plt.show() \n",
    "    # o3d.visualization.draw_geometries([source_temp, target])\n",
    "\n",
    "def vector_to_matrix(x):\n",
    "    X = np.array([[np.cos(x[2]), -np.sin(x[2]), x[0]],\n",
    "                [np.sin(x[2]), np.cos(x[2]), x[1]],\n",
    "                [0, 0, 1]\n",
    "                ])\n",
    "    return X\n",
    "\n",
    "def diff_vector(x_i, x_j):\n",
    "    X_i = vector_to_matrix(x_i)\n",
    "    X_j = vector_to_matrix(x_j)\n",
    "    V_ij = np.dot(np.linalg.inv(X_i),X_j)\n",
    "    return matrix_to_vector(V_ij)\n",
    "\n",
    "def matrix_to_vector(X):\n",
    "    x = np.array([X[0][2], X[1][2], math.atan2(X[1][0], X[0][0])]) \n",
    "    return x\n",
    "\n",
    "def theta_to_rotation_matrix(theta):\n",
    "    R = np.array([[np.cos(theta),   -np.sin(theta)],\n",
    "                  [np.sin(theta),   np.cos(theta)]])\n",
    "    return R\n",
    "\n",
    "def theta_to_rotation_matrix_derivative(theta):\n",
    "    R_derivative = np.array([[-np.sin(theta),   -np.cos(theta)],\n",
    "                             [np.cos(theta),   -np.sin(theta)]])\n",
    "    return R_derivative\n",
    "\n",
    "def rotation_matrix_to_theta(R):\n",
    "    theta = math.atan2(R[1][0], R[0][0])\n",
    "    return theta\n",
    "\n",
    "\n",
    "\n",
    "class Link:\n",
    "    def __init__(self, infor_matrix, edge_vector, node_1, node_2):\n",
    "        self.__infor_matrix = infor_matrix\n",
    "        self.__edge_vector = edge_vector\n",
    "        self.__node_1 = node_1\n",
    "        self.__node_2 = node_2\n",
    "        self.__A_ij = np.identity(3)\n",
    "        self.__B_ij = np.identity(3)\n",
    "        self.__error_vector = np.ones((1,3))\n",
    "\n",
    "    def read_vector(self):\n",
    "        return self.__edge_vector \n",
    "\n",
    "    def read_jacobi(self):\n",
    "        matrix1 = np.dot(theta_to_rotation_matrix(self.__edge_vector[2]).T,\n",
    "                         theta_to_rotation_matrix(self.__node_1.read_state()[2]).T)\n",
    "        matrix2 = np.dot(theta_to_rotation_matrix(self.__edge_vector[2]).T, \n",
    "                         np.dot(theta_to_rotation_matrix_derivative(self.__node_1.read_state()[2]).T, \n",
    "                                self.__node_2.read_state()[:2]-self.__node_1.read_state()[:2]) )\n",
    "        self.__A_ij = np.vstack( (np.hstack((-matrix1,matrix2.reshape(2,1))), np.array([0,0,-1.0])) )\n",
    "        self.__B_ij = np.vstack( (np.hstack((matrix1,np.zeros((2,1)))), np.array([0,0,1.0])) )\n",
    "        return(self.__A_ij, self.__B_ij)\n",
    "\n",
    "    def read_error(self):\n",
    "        error_matrix = np.dot(np.linalg.inv(vector_to_matrix(self.__edge_vector)), \n",
    "                              np.dot(np.linalg.inv(vector_to_matrix(self.__node_1.read_state())),\n",
    "                                     vector_to_matrix(self.__node_2.read_state())))\n",
    "        self.__error_vector = matrix_to_vector(error_matrix)\n",
    "        return(self.__error_vector)\n",
    "\n",
    "    def read_node_num(self):\n",
    "        return (self.__node_1.read_num(), self.__node_2.read_num())\n",
    "    \n",
    "    def read_info(self):\n",
    "        return self.__infor_matrix\n",
    "    \n",
    "\n",
    "    \n",
    "\n",
    "class Node:\n",
    "    def __init__(self, state_vector):\n",
    "        self.__num = 0\n",
    "        self.__state_vector = state_vector\n",
    "\n",
    "    def resort(self, num):\n",
    "        self.__num = num\n",
    "\n",
    "    def read_state(self):\n",
    "        return self.__state_vector\n",
    "    \n",
    "    def set_state(self, state):\n",
    "        self.__state_vector = state\n",
    "\n",
    "    def read_num(self):\n",
    "        return self.__num"
   ]
  },
  {
   "cell_type": "code",
   "execution_count": 129,
   "metadata": {},
   "outputs": [],
   "source": [
    "obv_coord  =[np.zeros((3))]\n",
    "for i in range(len(pcd)-150):\n",
    "    result_icp = o3d.pipelines.registration.registration_icp(\n",
    "        pcd[i], pcd[i+1], 0.1, np.identity(4),\n",
    "        o3d.pipelines.registration.TransformationEstimationPointToPoint())\n",
    "    trans_matrix = np.linalg.inv(result_icp.transformation)\n",
    "    trans_matrix_2d = np.delete(np.delete(trans_matrix,2,1), 2, 0)\n",
    "    target_matrix = np.dot(vector_to_matrix(obv_coord[i]),trans_matrix_2d)\n",
    "    target_vector = matrix_to_vector(target_matrix)\n",
    "    obv_coord.append(target_vector)"
   ]
  },
  {
   "cell_type": "code",
   "execution_count": 126,
   "metadata": {},
   "outputs": [
    {
     "data": {
      "image/png": "[encoded data removed]",
      "text/plain": [
       "<Figure size 640x480 with 1 Axes>"
      ]
     },
     "metadata": {},
     "output_type": "display_data"
    }
   ],
   "source": [
    "fig, ax = plt.subplots()\n",
    "for pos in obv_coord:\n",
    "    ax.plot(pos[0],pos[1],'yo')\n",
    "\n",
    "ax.grid() \n",
    "ax.set_aspect('equal')\n",
    "plt.show() "
   ]
  },
  {
   "cell_type": "code",
   "execution_count": 130,
   "metadata": {},
   "outputs": [
    {
     "data": {
      "image/png": "[encoded data removed]",
      "text/plain": [
       "<Figure size 640x480 with 1 Axes>"
      ]
     },
     "metadata": {},
     "output_type": "display_data"
    }
   ],
   "source": [
    "fig, ax = plt.subplots()\n",
    "for pos in odom_data:\n",
    "    ax.plot(pos[0],pos[1],'ro')\n",
    "\n",
    "for pos in p3d_data:\n",
    "    ax.plot(pos[0],pos[1],'bo')\n",
    "\n",
    "for pos in obv_coord:\n",
    "    ax.plot(pos[0],pos[1],'yo')\n",
    "\n",
    "ax.grid() \n",
    "ax.set_aspect('equal')\n",
    "plt.show() "
   ]
  }
 ],
 "metadata": {
  "kernelspec": {
   "display_name": "Python 3",
   "language": "python",
   "name": "python3"
  },
  "language_info": {
   "codemirror_mode": {
    "name": "ipython",
    "version": 3
   },
   "file_extension": ".py",
   "mimetype": "text/x-python",
   "name": "python",
   "nbconvert_exporter": "python",
   "pygments_lexer": "ipython3",
   "version": "3.8.10"
  }
 },
 "nbformat": 4,
 "nbformat_minor": 2
}
